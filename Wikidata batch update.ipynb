{
 "cells": [
  {
   "cell_type": "code",
   "execution_count": null,
   "metadata": {},
   "outputs": [],
   "source": []
  },
  {
   "cell_type": "markdown",
   "metadata": {},
   "source": [
    "\n",
    "# Objective\n",
    "Create a batch update process to add to Wikidata.\n",
    "## References\n",
    "‘VanderBot Tutorial’. 2024. Digital Education Resources - Vanderbilt Libraries Digital Lab. Accessed May 5. https://heardlibrary.github.io/digital-scholarship/script/wikidata/vanderbot/.\n",
    "\n",
    "# Set-up steps\n",
    "Set up a project directory and follow the steps outlined below. The key steps are:\n",
    "1. Create a Wikidata log-in profile\n",
    "2. Create a Wikidata bot password\n",
    "3. Set-up a Wikidata credentials file\n",
    "4. Create a Wikidata bot password\n",
    "5. Create a schema to upload the desired data\n",
    "\n",
    "\n",
    "# Create a Wikidata log-in profile\n",
    "URL: https://www.wikidata.org/w/index.php?returnto=Wikidata%3AIntroduction&title=Special:UserLogin&centralAuthAutologinTried=1&centralAuthError=Not+centrally+logged+in\n",
    "\n",
    "# Create a Wikidata bot password\n",
    "URL: https://www.wikidata.org/wiki/Special:BotPasswords\n",
    "Follow the prompts, ensuring to select the following options:\n",
    "- Edit existing pages\n",
    "- Create, edit, and move pages\n",
    "- Delete pages, revisions, and log entries\n",
    "\n",
    "## Set-up a Wikidata credentials file\n",
    "Copy credential to a text file conforming to this format:\n",
    "```\n",
    "endpointUrl=https://test.wikidata.org\n",
    "username=User@bot\n",
    "password=465jli90dslhgoiuhsaoi9s0sj5ki3lo\n",
    "```\n",
    "Save credentials in a text file named: `wikibase_credentials.txt`\n",
    "Save the file in the user directory corresponding to the computer log-in profile. For example: `C:\\Users\\User`\n",
    "\n",
    "## Create a schema to upload the desired data\n",
    "URL: https://heardlibrary.github.io/digital-scholarship/script/wikidata/wikidata-csv2rdf-metadata.html\n",
    "Complete the form and save the CSV file in the project directory.\n",
    "\n",
    "Refer to the available properties for reference when constructing the schema: https://www.wikidata.org/wiki/Wikidata:List_of_properties\n",
    "\n"
   ]
  },
  {
   "cell_type": "code",
   "execution_count": 3,
   "metadata": {},
   "outputs": [
    {
     "name": "stdout",
     "output_type": "stream",
     "text": [
      "Requirement already satisfied: requests in c:\\users\\user\\.pyenv\\pyenv-win\\versions\\3.10.11\\lib\\site-packages (2.31.0)\n",
      "Requirement already satisfied: charset-normalizer<4,>=2 in c:\\users\\user\\.pyenv\\pyenv-win\\versions\\3.10.11\\lib\\site-packages (from requests) (3.3.2)\n",
      "Requirement already satisfied: idna<4,>=2.5 in c:\\users\\user\\.pyenv\\pyenv-win\\versions\\3.10.11\\lib\\site-packages (from requests) (3.6)\n",
      "Requirement already satisfied: urllib3<3,>=1.21.1 in c:\\users\\user\\.pyenv\\pyenv-win\\versions\\3.10.11\\lib\\site-packages (from requests) (2.1.0)\n",
      "Requirement already satisfied: certifi>=2017.4.17 in c:\\users\\user\\.pyenv\\pyenv-win\\versions\\3.10.11\\lib\\site-packages (from requests) (2023.11.17)\n",
      "Note: you may need to restart the kernel to use updated packages.\n"
     ]
    },
    {
     "name": "stderr",
     "output_type": "stream",
     "text": [
      "\n",
      "[notice] A new release of pip is available: 23.3.2 -> 24.0\n",
      "[notice] To update, run: c:\\Users\\User\\.pyenv\\pyenv-win\\versions\\3.10.11\\python.exe -m pip install --upgrade pip\n"
     ]
    }
   ],
   "source": [
    "%pip install requests"
   ]
  },
  {
   "cell_type": "markdown",
   "metadata": {},
   "source": [
    "# Example: Create a schema for a power generator \n",
    "Open the schema form: https://heardlibrary.github.io/digital-scholarship/script/wikidata/wikidata-csv2rdf-metadata.html\n",
    "\n",
    "Fill in the label and description fields:\n",
    "- Type: `labelEN`, select `en (English)`\n",
    "- Type: `descriptionEN`, select `en (English)`\n",
    "\n",
    "Click the add property button and fill in the fields:\n",
    "- For property name, enter: `instance of`\n",
    "- For property ID, enter: `P31`\n",
    "- For choose type, enter: `Item`\n",
    "\n",
    "Note that `Item` refers to a real-world object, concept, or event that is given an identifier (an equivalent of a name) in Wikidata together with information about it. Each item has a corresponding wiki page in the Wikidata main namespace. That page's title is the item's unique prefixed id, such as Q42.\n",
    "\n",
    "Click the button: Add reference \n",
    "Click the button: Add reference property\n",
    "For the reference property, fill in the fields:\n",
    "- enter: `instance of_ref1_refURL`\n",
    "- for Reference property ID, enter: `P93`\n",
    "- for choose type, enter: `URL`\n",
    "\n",
    "Now scroll to the bottom of the form page and click on the save CSV button. Assign a name for the CSV file such as: `Test1.CSV`"
   ]
  },
  {
   "cell_type": "markdown",
   "metadata": {},
   "source": [
    "# Example: fill in the power generator details in `Test1.CSV`\n",
    "Open the CSV file and enter the following details:\n",
    "- For the qid column, enter: \n",
    "- In a cell in the labelEN column, enter: `Muja C Unit 6 Power Station`\n",
    "- In the descriptionEN column, enter: `Muja Power Station is a coal-fuelled electricity generator located near Collie in Western Australia`\n",
    "- in the instanceof_uuid column, enter: `power station`\n",
    "- in the instanceof column, enter: `Q159719`\n",
    "- in the instanceof_ref1_refURL column, enter: `https://www.synergy.net.au/Our-energy/Electricity-generation/Power-stations`\n",
    "\n",
    "Then save the CSV file in the project directory and close the CSV file.\n"
   ]
  },
  {
   "cell_type": "markdown",
   "metadata": {},
   "source": [
    "# Example: upload the data to the Wikidata sand box\n",
    "- Open the Windows command prompt in the project directory\n",
    "- Enter: `python vanderbot.py`"
   ]
  },
  {
   "cell_type": "code",
   "execution_count": null,
   "metadata": {},
   "outputs": [],
   "source": []
  }
 ],
 "metadata": {
  "kernelspec": {
   "display_name": "Python 3",
   "language": "python",
   "name": "python3"
  },
  "language_info": {
   "codemirror_mode": {
    "name": "ipython",
    "version": 3
   },
   "file_extension": ".py",
   "mimetype": "text/x-python",
   "name": "python",
   "nbconvert_exporter": "python",
   "pygments_lexer": "ipython3",
   "version": "3.10.11"
  }
 },
 "nbformat": 4,
 "nbformat_minor": 2
}
