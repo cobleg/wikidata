{
 "cells": [
  {
   "cell_type": "code",
   "execution_count": null,
   "metadata": {},
   "outputs": [],
   "source": []
  },
  {
   "cell_type": "markdown",
   "metadata": {},
   "source": [
    "# Construct a Wikidata batch update of the SWIS\n",
    "## Purpose\n",
    "This notebook provides notes about adding data related to the South West Interconnected System (SWIS) to Wikidata.\n",
    "\n",
    "## Key steps\n",
    "The key steps are as follows:\n",
    "1. Identify the data to add to Wikidata\n",
    "2. Construct the schema \n",
    "3. Create the required data file\n",
    "4. Run the batch process script\n",
    "5. Validate the results"
   ]
  },
  {
   "cell_type": "markdown",
   "metadata": {},
   "source": [
    "# Step 1: Identify the data to add to Wikidata\n",
    "The key activity is to compare the SWIS Wikidata to official data sources. At present, Wikidata information about the SWIS is patchy. Only some of the power generating facilities are listed and many have inconsistent tasks. This makes Wikidata difficult to use.\n",
    "\n",
    "Some of the official data sets are available from various agencies:\n",
    "- [The Australian Energy Market Operator](https://aemo.com.au/energy-systems/electricity/wholesale-electricity-market-wem/data-wem) \n",
    "- [Western Power's Network Capacity Mapping Tool](https://www.westernpower.com.au/resources-education/calculators-tools/network-capacity-mapping-tool/)\n",
    "- [Data WA](https://catalogue.data.wa.gov.au/org/western-power)\n",
    "A basic gap analysis can be conducted to identify key SWIS elements that are missing from the Wikidata.\n",
    "\n",
    "Unofficial data is also available from media reports and power project proponent web sites.\n",
    "\n",
    "A review of SWIS data can be conducted by implementing SPARQL queries using the [Wikidata Query Service](https://query.wikidata.org/). See the code below for examples:"
   ]
  },
  {
   "cell_type": "code",
   "execution_count": null,
   "metadata": {},
   "outputs": [],
   "source": [
    "SELECT DISTINCT ?connectedItem ?connectedItemLabel\n",
    "WHERE {\n",
    "  {\n",
    "    ?connectedItem ?predicate wd:Q125367441 . # SWIS Region\n",
    "  }\n",
    "  UNION\n",
    "  {\n",
    "    wd:Q125367441 ?predicate ?connectedItem .\n",
    "  }\n",
    "  SERVICE wikibase:label { bd:serviceParam wikibase:language \"[AUTO_LANGUAGE],en\". }\n",
    "}"
   ]
  },
  {
   "cell_type": "code",
   "execution_count": null,
   "metadata": {},
   "outputs": [],
   "source": []
  },
  {
   "cell_type": "markdown",
   "metadata": {},
   "source": [
    "# Step 2: Construct the schema \n",
    "Once missing data has been identified, the correct items and properties need to be identified. Typically, items will need to be added, which requires fields/property-value pairs such as:\n",
    "- Label\n",
    "- Description\n",
    "- instance of\n",
    "- part of\n",
    "- owned by\n",
    "\n",
    "See this example of a power station located in the SWIS for ideas about what to add: https://www.wikidata.org/wiki/Q7195919\n",
    "\n",
    "Fill in the form found here: https://heardlibrary.github.io/digital-scholarship/script/wikidata/wikidata-csv2rdf-metadata.html\n",
    "\n",
    "Instructions can be found here: https://heardlibrary.github.io/digital-scholarship/script/wikidata/vanderbot/"
   ]
  },
  {
   "cell_type": "markdown",
   "metadata": {},
   "source": [
    "# Step 3: Create the required data file\n",
    "The data to be added to Wikidata needs to be compiled in the CSV file constructed in the previous step. If modifying existing items, enter the QID code in the column headed `qid`. Add the details where required and do not fill in any column with a column heading containing the subscript `_uuid`.\n",
    "\n",
    "Then run the command `python vanderbot.py` in the Terminal or powershell console. If successful, a message will appear indicating what was uploaded and the work `success`. Check one or two of the Wikidata pages to ensure the changes were implemented as intended."
   ]
  },
  {
   "cell_type": "markdown",
   "metadata": {},
   "source": []
  }
 ],
 "metadata": {
  "language_info": {
   "name": "python"
  }
 },
 "nbformat": 4,
 "nbformat_minor": 2
}
